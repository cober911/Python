{
 "cells": [
  {
   "cell_type": "markdown",
   "id": "242cf7ef",
   "metadata": {},
   "source": [
    "Ниже написана функция"
   ]
  },
  {
   "cell_type": "code",
   "execution_count": 1,
   "id": "bed3b828",
   "metadata": {
    "scrolled": true
   },
   "outputs": [
    {
     "name": "stdout",
     "output_type": "stream",
     "text": [
      "8\n"
     ]
    }
   ],
   "source": [
    "def f(a, b):\n",
    "    return a + b\n",
    "\n",
    "print(f(3, 5))"
   ]
  },
  {
   "cell_type": "code",
   "execution_count": 2,
   "id": "43041fbb",
   "metadata": {},
   "outputs": [],
   "source": [
    "import sympy"
   ]
  },
  {
   "cell_type": "code",
   "execution_count": 3,
   "id": "b3b50797",
   "metadata": {},
   "outputs": [],
   "source": [
    "x = sympy.Symbol('x')"
   ]
  },
  {
   "cell_type": "code",
   "execution_count": 4,
   "id": "e6075a60",
   "metadata": {},
   "outputs": [],
   "source": [
    "f = 5 * x * 6 * x + 4 * x + x * 6 + 8 + 9 + 4 * x * x + 5 * x"
   ]
  },
  {
   "cell_type": "code",
   "execution_count": 5,
   "id": "bb2f58c9",
   "metadata": {},
   "outputs": [
    {
     "name": "stdout",
     "output_type": "stream",
     "text": [
      "34*x**2 + 15*x + 17\n"
     ]
    }
   ],
   "source": [
    "print(f)"
   ]
  },
  {
   "cell_type": "code",
   "execution_count": null,
   "id": "32217326",
   "metadata": {},
   "outputs": [],
   "source": []
  },
  {
   "cell_type": "code",
   "execution_count": 6,
   "id": "0e68b2f6",
   "metadata": {},
   "outputs": [],
   "source": [
    "f1 = 2*x**2 + 5*x + 2\n"
   ]
  },
  {
   "cell_type": "code",
   "execution_count": 7,
   "id": "beb768d2",
   "metadata": {},
   "outputs": [
    {
     "name": "stdout",
     "output_type": "stream",
     "text": [
      "[-2, -1/2]\n",
      "[-2.00000000000000, -0.500000000000000]\n"
     ]
    }
   ],
   "source": [
    "print(sympy.solve(f1))\n",
    "print([root.evalf() for root in sympy.solve(f1, x)])"
   ]
  },
  {
   "cell_type": "code",
   "execution_count": 8,
   "id": "8805febe",
   "metadata": {},
   "outputs": [
    {
     "name": "stdout",
     "output_type": "stream",
     "text": [
      "\n",
      "        Evaluate the given formula to an accuracy of *n* digits.\n",
      "\n",
      "        Parameters\n",
      "        ==========\n",
      "\n",
      "        subs : dict, optional\n",
      "            Substitute numerical values for symbols, e.g.\n",
      "            ``subs={x:3, y:1+pi}``. The substitutions must be given as a\n",
      "            dictionary.\n",
      "\n",
      "        maxn : int, optional\n",
      "            Allow a maximum temporary working precision of maxn digits.\n",
      "\n",
      "        chop : bool or number, optional\n",
      "            Specifies how to replace tiny real or imaginary parts in\n",
      "            subresults by exact zeros.\n",
      "\n",
      "            When ``True`` the chop value defaults to standard precision.\n",
      "\n",
      "            Otherwise the chop value is used to determine the\n",
      "            magnitude of \"small\" for purposes of chopping.\n",
      "\n",
      "            >>> from sympy import N\n",
      "            >>> x = 1e-4\n",
      "            >>> N(x, chop=True)\n",
      "            0.000100000000000000\n",
      "            >>> N(x, chop=1e-5)\n",
      "            0.000100000000000000\n",
      "            >>> N(x, chop=1e-4)\n",
      "            0\n",
      "\n",
      "        strict : bool, optional\n",
      "            Raise ``PrecisionExhausted`` if any subresult fails to\n",
      "            evaluate to full accuracy, given the available maxprec.\n",
      "\n",
      "        quad : str, optional\n",
      "            Choose algorithm for numerical quadrature. By default,\n",
      "            tanh-sinh quadrature is used. For oscillatory\n",
      "            integrals on an infinite interval, try ``quad='osc'``.\n",
      "\n",
      "        verbose : bool, optional\n",
      "            Print debug information.\n",
      "\n",
      "        Notes\n",
      "        =====\n",
      "\n",
      "        When Floats are naively substituted into an expression,\n",
      "        precision errors may adversely affect the result. For example,\n",
      "        adding 1e16 (a Float) to 1 will truncate to 1e16; if 1e16 is\n",
      "        then subtracted, the result will be 0.\n",
      "        That is exactly what happens in the following:\n",
      "\n",
      "        >>> from sympy.abc import x, y, z\n",
      "        >>> values = {x: 1e16, y: 1, z: 1e16}\n",
      "        >>> (x + y - z).subs(values)\n",
      "        0\n",
      "\n",
      "        Using the subs argument for evalf is the accurate way to\n",
      "        evaluate such an expression:\n",
      "\n",
      "        >>> (x + y - z).evalf(subs=values)\n",
      "        1.00000000000000\n",
      "        \n"
     ]
    }
   ],
   "source": [
    "print(sympy.solve(f, x)[0].evalf.__doc__)"
   ]
  },
  {
   "cell_type": "code",
   "execution_count": 9,
   "id": "494c43ae",
   "metadata": {},
   "outputs": [
    {
     "name": "stdout",
     "output_type": "stream",
     "text": [
      "[-0.220588235294118 - 0.671819045911789*I, -0.220588235294118 + 0.671819045911789*I]\n"
     ]
    }
   ],
   "source": [
    "print([root.evalf(maxn=3) for root in sympy.solve(f, x)])"
   ]
  },
  {
   "cell_type": "code",
   "execution_count": 10,
   "id": "a8623726",
   "metadata": {},
   "outputs": [
    {
     "data": {
      "text/latex": [
       "$\\displaystyle \\sqrt{55}$"
      ],
      "text/plain": [
       "sqrt(55)"
      ]
     },
     "execution_count": 10,
     "metadata": {},
     "output_type": "execute_result"
    }
   ],
   "source": [
    "sympy.sqrt(55)"
   ]
  },
  {
   "cell_type": "markdown",
   "id": "52bec2b9",
   "metadata": {},
   "source": [
    "f(x) = -12x^4*sin(cos(x)) - 18x^3+5x^2 + 10x - 30\n",
    "\n",
    "1. Определить корни\n",
    "\n",
    "2. Найти интервалы, на которых функция возрастает\n",
    "\n",
    "3. Найти интервалы, на которых функция убывает\n",
    "\n",
    "4. Построить график\n",
    "\n",
    "5. Вычислить вершину\n",
    "\n",
    "6. Определить промежутки, на котором f > 0\n",
    "\n",
    "7. Определить промежутки, на котором f < 0"
   ]
  },
  {
   "cell_type": "code",
   "execution_count": 11,
   "id": "5bca9dca",
   "metadata": {},
   "outputs": [
    {
     "data": {
      "text/latex": [
       "$\\displaystyle 77$"
      ],
      "text/plain": [
       "77"
      ]
     },
     "execution_count": 11,
     "metadata": {},
     "output_type": "execute_result"
    }
   ],
   "source": [
    "f1.subs(x, 5)"
   ]
  },
  {
   "cell_type": "code",
   "execution_count": 12,
   "id": "d81be31c",
   "metadata": {},
   "outputs": [
    {
     "data": {
      "text/latex": [
       "$\\displaystyle 4 x + 5$"
      ],
      "text/plain": [
       "4*x + 5"
      ]
     },
     "execution_count": 12,
     "metadata": {},
     "output_type": "execute_result"
    }
   ],
   "source": [
    "f1.diff(x)"
   ]
  },
  {
   "cell_type": "markdown",
   "id": "220d40fe",
   "metadata": {},
   "source": [
    "Дана функция f(x) = 5x^2 + 10x - 30\n",
    "\n",
    "1. Определить корни [-0.220588235294118 - 0.671819045911789*I, -0.220588235294118 + 0.671819045911789*I]\n",
    "\n",
    "2. Найти интервалы, на которых функция возрастает [-oo; -0.220588235294118 - 0.671819045911789*I,  -0.220588235294118 + 0.671819045911789*I; +oo]\n",
    "\n",
    "3. Найти интервалы, на которых функция убывает\n",
    "\n",
    "4. Построить график\n",
    "\n",
    "5. Вычислить вершину\n",
    "\n",
    "6. Определить промежутки, на котором f > 0\n",
    "\n",
    "7. Определить промежутки, на котором f < 0"
   ]
  },
  {
   "cell_type": "code",
   "execution_count": 13,
   "id": "8ecd2948",
   "metadata": {},
   "outputs": [],
   "source": [
    "from sympy.plotting import plot"
   ]
  },
  {
   "cell_type": "code",
   "execution_count": 14,
   "id": "5dcaf1d9",
   "metadata": {},
   "outputs": [
    {
     "data": {
      "image/png": "[encoded data removed]",
      "text/plain": [
       "<Figure size 640x480 with 1 Axes>"
      ]
     },
     "metadata": {},
     "output_type": "display_data"
    },
    {
     "data": {
      "text/plain": [
       "<sympy.plotting.plot.Plot at 0x1aa886d0850>"
      ]
     },
     "execution_count": 14,
     "metadata": {},
     "output_type": "execute_result"
    }
   ],
   "source": [
    "plot(f1, ylim=(-5, 5))"
   ]
  },
  {
   "cell_type": "code",
   "execution_count": 15,
   "id": "0017aa34",
   "metadata": {},
   "outputs": [
    {
     "data": {
      "image/png": "[encoded data removed]",
      "text/plain": [
       "<Figure size 640x480 with 1 Axes>"
      ]
     },
     "metadata": {},
     "output_type": "display_data"
    },
    {
     "data": {
      "text/plain": [
       "<sympy.plotting.plot.Plot at 0x1aaa2b1ca50>"
      ]
     },
     "execution_count": 15,
     "metadata": {},
     "output_type": "execute_result"
    }
   ],
   "source": [
    "plot(f1.diff(x))"
   ]
  },
  {
   "cell_type": "code",
   "execution_count": 16,
   "id": "e4655edc",
   "metadata": {},
   "outputs": [
    {
     "data": {
      "text/plain": [
       "[-5/4]"
      ]
     },
     "execution_count": 16,
     "metadata": {},
     "output_type": "execute_result"
    }
   ],
   "source": [
    "sympy.solve(f1.diff(x))\n",
    "\n"
   ]
  },
  {
   "cell_type": "code",
   "execution_count": 17,
   "id": "adcbdd86",
   "metadata": {},
   "outputs": [
    {
     "data": {
      "text/latex": [
       "$\\displaystyle 0$"
      ],
      "text/plain": [
       "0"
      ]
     },
     "execution_count": 17,
     "metadata": {},
     "output_type": "execute_result"
    }
   ],
   "source": [
    "f1.diff(x).subs(x, -5 / 4)"
   ]
  },
  {
   "cell_type": "code",
   "execution_count": 18,
   "id": "b3fa7ca4",
   "metadata": {},
   "outputs": [
    {
     "data": {
      "text/latex": [
       "$\\displaystyle -1.125$"
      ],
      "text/plain": [
       "-1.12500000000000"
      ]
     },
     "execution_count": 18,
     "metadata": {},
     "output_type": "execute_result"
    }
   ],
   "source": [
    "f1.subs(x, -5 / 4)"
   ]
  },
  {
   "cell_type": "code",
   "execution_count": 19,
   "id": "c524d9cf",
   "metadata": {},
   "outputs": [
    {
     "data": {
      "text/plain": [
       "-1.25"
      ]
     },
     "execution_count": 19,
     "metadata": {},
     "output_type": "execute_result"
    }
   ],
   "source": [
    "-5 / 4\n"
   ]
  },
  {
   "cell_type": "markdown",
   "id": "082ba05b",
   "metadata": {},
   "source": [
    "f(x) = -12x^4*sin(cos(x)) - 18x^3+5x^2 + 10x - 30\n",
    "\n",
    "1. Определить корни\n",
    "\n",
    "2. Найти интервалы, на которых функция возрастает\n",
    "\n",
    "3. Найти интервалы, на которых функция убывает\n",
    "\n",
    "4. Построить график\n",
    "\n",
    "5. Вычислить вершину\n",
    "\n",
    "6. Определить промежутки, на котором f > 0\n",
    "\n",
    "7. Определить промежутки, на котором f < 0"
   ]
  },
  {
   "cell_type": "code",
   "execution_count": null,
   "id": "0af7e63c",
   "metadata": {},
   "outputs": [],
   "source": [
    "f_x = -12*x**4*sympy.sin(sympy.cos(x)) - 18*x**3+5*x**2 + 10*x - 30\n",
    "print(sympy.solve(f_x, x))"
   ]
  },
  {
   "cell_type": "code",
   "execution_count": 44,
   "id": "837bcb94",
   "metadata": {},
   "outputs": [
    {
     "data": {
      "image/png": "[encoded data removed]",
      "text/plain": [
       "<Figure size 640x480 with 1 Axes>"
      ]
     },
     "metadata": {},
     "output_type": "display_data"
    },
    {
     "data": {
      "text/plain": [
       "<sympy.plotting.plot.Plot at 0x1aaa5ab83d0>"
      ]
     },
     "execution_count": 44,
     "metadata": {},
     "output_type": "execute_result"
    }
   ],
   "source": [
    "plot(f_x, ylim=(-100, 100))"
   ]
  },
  {
   "cell_type": "code",
   "execution_count": 43,
   "id": "b164f95e",
   "metadata": {},
   "outputs": [
    {
     "name": "stdout",
     "output_type": "stream",
     "text": [
      "-5.0268659283 -5.0268659281\n",
      "-6.93295532983029e-7\n",
      "7.85132669989252e-7\n",
      "4.59181137557607e-8\n"
     ]
    }
   ],
   "source": [
    "a = -6\n",
    "b = -4\n",
    "d = 1\n",
    "for _ in range(10):\n",
    "    a *= 10\n",
    "    b *= 10\n",
    "    d *= 10\n",
    "\n",
    "    for i in range(a, b):\n",
    "        param = i / d\n",
    "        if f_x.subs(x, param) > 0:\n",
    "            a = i - 1\n",
    "            b = i + 1\n",
    "            break\n",
    "print(a / d, b / d)\n",
    "\n",
    "print(f_x.subs(x, a / d))  # 0.0000025\n",
    "print(f_x.subs(x, b / d))  # -0.00000509\n",
    "print(f_x.subs(x, (a / d + b / d) / 2))  # -0.00000509\n"
   ]
  },
  {
   "cell_type": "code",
   "execution_count": 35,
   "id": "e2509835",
   "metadata": {},
   "outputs": [
    {
     "name": "stdout",
     "output_type": "stream",
     "text": [
      "2.57963438343722e-6\n",
      "-5.09277015225962e-6\n",
      "-1.25657061289530e-6\n"
     ]
    }
   ],
   "source": [
    "print(f_x.subs(x, -7.6506222852))  # 0.0000025\n",
    "print(f_x.subs(x, -7.650622285))  # -0.00000509\n",
    "print(f_x.subs(x, (-7.6506222852 - 7.650622285) / 2))  # -0.00000509"
   ]
  },
  {
   "cell_type": "code",
   "execution_count": null,
   "id": "e6c1066b",
   "metadata": {},
   "outputs": [],
   "source": []
  },
  {
   "cell_type": "code",
   "execution_count": null,
   "id": "1bcd4183",
   "metadata": {},
   "outputs": [],
   "source": []
  },
  {
   "cell_type": "markdown",
   "id": "63327bc3",
   "metadata": {},
   "source": [
    "Дана задача: \n",
    "\n",
    "К аналитику обратился риэлтор c задачей выставить ценник для продажи объектов недвижимости площадью 48м2 и 54м2. В ходе работы над задачей аналитик выяснил, что:  \n",
    "\n",
    "объект 31м2 стоит $19310\n",
    "\n",
    "объект 51м2 стоит $52150\n",
    "\n",
    "объект 61м2 стоит $74570\n",
    "\n",
    "Вопрос: что. сказать риелтору?"
   ]
  },
  {
   "cell_type": "code",
   "execution_count": null,
   "id": "97330088",
   "metadata": {},
   "outputs": [],
   "source": [
    "f1 = a"
   ]
  },
  {
   "cell_type": "code",
   "execution_count": null,
   "id": "474b1651",
   "metadata": {},
   "outputs": [],
   "source": []
  },
  {
   "cell_type": "code",
   "execution_count": null,
   "id": "ab7a9d15",
   "metadata": {},
   "outputs": [],
   "source": []
  }
 ],
 "metadata": {
  "kernelspec": {
   "display_name": "Python 3 (ipykernel)",
   "language": "python",
   "name": "python3"
  },
  "language_info": {
   "codemirror_mode": {
    "name": "ipython",
    "version": 3
   },
   "file_extension": ".py",
   "mimetype": "text/x-python",
   "name": "python",
   "nbconvert_exporter": "python",
   "pygments_lexer": "ipython3",
   "version": "3.11.0"
  }
 },
 "nbformat": 4,
 "nbformat_minor": 5
}
